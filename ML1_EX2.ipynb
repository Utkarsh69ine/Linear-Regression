{
 "cells": [
  {
   "cell_type": "markdown",
   "id": "ff092cf8",
   "metadata": {},
   "source": [
    "# SECTION A [BATCH 1]\n",
    "# WEEK 1"
   ]
  },
  {
   "cell_type": "markdown",
   "id": "a5a61609",
   "metadata": {},
   "source": [
    "# Exercise 2"
   ]
  },
  {
   "cell_type": "markdown",
   "id": "04de8ddf",
   "metadata": {},
   "source": [
    "# Use the boston.csv dataset and determine the best 5 features to predict ‘MEDBB V’"
   ]
  },
  {
   "cell_type": "code",
   "execution_count": 14,
   "id": "b67ba870",
   "metadata": {},
   "outputs": [],
   "source": [
    "import pandas as pd\n",
    "import numpy as np\n",
    "from matplotlib import pyplot as plt\n",
    "import seaborn as sb\n",
    "\n",
    "bs = pd.read_csv(\"Boston.csv\", index_col = 0)"
   ]
  },
  {
   "cell_type": "code",
   "execution_count": 8,
   "id": "6267fd97",
   "metadata": {},
   "outputs": [
    {
     "data": {
      "text/html": [
       "<div>\n",
       "<style scoped>\n",
       "    .dataframe tbody tr th:only-of-type {\n",
       "        vertical-align: middle;\n",
       "    }\n",
       "\n",
       "    .dataframe tbody tr th {\n",
       "        vertical-align: top;\n",
       "    }\n",
       "\n",
       "    .dataframe thead th {\n",
       "        text-align: right;\n",
       "    }\n",
       "</style>\n",
       "<table border=\"1\" class=\"dataframe\">\n",
       "  <thead>\n",
       "    <tr style=\"text-align: right;\">\n",
       "      <th></th>\n",
       "      <th>crim</th>\n",
       "      <th>zn</th>\n",
       "      <th>indus</th>\n",
       "      <th>chas</th>\n",
       "      <th>nox</th>\n",
       "      <th>rm</th>\n",
       "      <th>age</th>\n",
       "      <th>dis</th>\n",
       "      <th>rad</th>\n",
       "      <th>tax</th>\n",
       "      <th>ptratio</th>\n",
       "      <th>black</th>\n",
       "      <th>lstat</th>\n",
       "      <th>medv</th>\n",
       "    </tr>\n",
       "  </thead>\n",
       "  <tbody>\n",
       "    <tr>\n",
       "      <th>1</th>\n",
       "      <td>0.00632</td>\n",
       "      <td>18.0</td>\n",
       "      <td>2.31</td>\n",
       "      <td>0</td>\n",
       "      <td>0.538</td>\n",
       "      <td>6.575</td>\n",
       "      <td>65.2</td>\n",
       "      <td>4.0900</td>\n",
       "      <td>1</td>\n",
       "      <td>296</td>\n",
       "      <td>15.3</td>\n",
       "      <td>396.90</td>\n",
       "      <td>4.98</td>\n",
       "      <td>24.0</td>\n",
       "    </tr>\n",
       "    <tr>\n",
       "      <th>2</th>\n",
       "      <td>0.02731</td>\n",
       "      <td>0.0</td>\n",
       "      <td>7.07</td>\n",
       "      <td>0</td>\n",
       "      <td>0.469</td>\n",
       "      <td>6.421</td>\n",
       "      <td>78.9</td>\n",
       "      <td>4.9671</td>\n",
       "      <td>2</td>\n",
       "      <td>242</td>\n",
       "      <td>17.8</td>\n",
       "      <td>396.90</td>\n",
       "      <td>9.14</td>\n",
       "      <td>21.6</td>\n",
       "    </tr>\n",
       "    <tr>\n",
       "      <th>3</th>\n",
       "      <td>0.02729</td>\n",
       "      <td>0.0</td>\n",
       "      <td>7.07</td>\n",
       "      <td>0</td>\n",
       "      <td>0.469</td>\n",
       "      <td>7.185</td>\n",
       "      <td>61.1</td>\n",
       "      <td>4.9671</td>\n",
       "      <td>2</td>\n",
       "      <td>242</td>\n",
       "      <td>17.8</td>\n",
       "      <td>392.83</td>\n",
       "      <td>4.03</td>\n",
       "      <td>34.7</td>\n",
       "    </tr>\n",
       "    <tr>\n",
       "      <th>4</th>\n",
       "      <td>0.03237</td>\n",
       "      <td>0.0</td>\n",
       "      <td>2.18</td>\n",
       "      <td>0</td>\n",
       "      <td>0.458</td>\n",
       "      <td>6.998</td>\n",
       "      <td>45.8</td>\n",
       "      <td>6.0622</td>\n",
       "      <td>3</td>\n",
       "      <td>222</td>\n",
       "      <td>18.7</td>\n",
       "      <td>394.63</td>\n",
       "      <td>2.94</td>\n",
       "      <td>33.4</td>\n",
       "    </tr>\n",
       "    <tr>\n",
       "      <th>5</th>\n",
       "      <td>0.06905</td>\n",
       "      <td>0.0</td>\n",
       "      <td>2.18</td>\n",
       "      <td>0</td>\n",
       "      <td>0.458</td>\n",
       "      <td>7.147</td>\n",
       "      <td>54.2</td>\n",
       "      <td>6.0622</td>\n",
       "      <td>3</td>\n",
       "      <td>222</td>\n",
       "      <td>18.7</td>\n",
       "      <td>396.90</td>\n",
       "      <td>5.33</td>\n",
       "      <td>36.2</td>\n",
       "    </tr>\n",
       "    <tr>\n",
       "      <th>...</th>\n",
       "      <td>...</td>\n",
       "      <td>...</td>\n",
       "      <td>...</td>\n",
       "      <td>...</td>\n",
       "      <td>...</td>\n",
       "      <td>...</td>\n",
       "      <td>...</td>\n",
       "      <td>...</td>\n",
       "      <td>...</td>\n",
       "      <td>...</td>\n",
       "      <td>...</td>\n",
       "      <td>...</td>\n",
       "      <td>...</td>\n",
       "      <td>...</td>\n",
       "    </tr>\n",
       "    <tr>\n",
       "      <th>502</th>\n",
       "      <td>0.06263</td>\n",
       "      <td>0.0</td>\n",
       "      <td>11.93</td>\n",
       "      <td>0</td>\n",
       "      <td>0.573</td>\n",
       "      <td>6.593</td>\n",
       "      <td>69.1</td>\n",
       "      <td>2.4786</td>\n",
       "      <td>1</td>\n",
       "      <td>273</td>\n",
       "      <td>21.0</td>\n",
       "      <td>391.99</td>\n",
       "      <td>9.67</td>\n",
       "      <td>22.4</td>\n",
       "    </tr>\n",
       "    <tr>\n",
       "      <th>503</th>\n",
       "      <td>0.04527</td>\n",
       "      <td>0.0</td>\n",
       "      <td>11.93</td>\n",
       "      <td>0</td>\n",
       "      <td>0.573</td>\n",
       "      <td>6.120</td>\n",
       "      <td>76.7</td>\n",
       "      <td>2.2875</td>\n",
       "      <td>1</td>\n",
       "      <td>273</td>\n",
       "      <td>21.0</td>\n",
       "      <td>396.90</td>\n",
       "      <td>9.08</td>\n",
       "      <td>20.6</td>\n",
       "    </tr>\n",
       "    <tr>\n",
       "      <th>504</th>\n",
       "      <td>0.06076</td>\n",
       "      <td>0.0</td>\n",
       "      <td>11.93</td>\n",
       "      <td>0</td>\n",
       "      <td>0.573</td>\n",
       "      <td>6.976</td>\n",
       "      <td>91.0</td>\n",
       "      <td>2.1675</td>\n",
       "      <td>1</td>\n",
       "      <td>273</td>\n",
       "      <td>21.0</td>\n",
       "      <td>396.90</td>\n",
       "      <td>5.64</td>\n",
       "      <td>23.9</td>\n",
       "    </tr>\n",
       "    <tr>\n",
       "      <th>505</th>\n",
       "      <td>0.10959</td>\n",
       "      <td>0.0</td>\n",
       "      <td>11.93</td>\n",
       "      <td>0</td>\n",
       "      <td>0.573</td>\n",
       "      <td>6.794</td>\n",
       "      <td>89.3</td>\n",
       "      <td>2.3889</td>\n",
       "      <td>1</td>\n",
       "      <td>273</td>\n",
       "      <td>21.0</td>\n",
       "      <td>393.45</td>\n",
       "      <td>6.48</td>\n",
       "      <td>22.0</td>\n",
       "    </tr>\n",
       "    <tr>\n",
       "      <th>506</th>\n",
       "      <td>0.04741</td>\n",
       "      <td>0.0</td>\n",
       "      <td>11.93</td>\n",
       "      <td>0</td>\n",
       "      <td>0.573</td>\n",
       "      <td>6.030</td>\n",
       "      <td>80.8</td>\n",
       "      <td>2.5050</td>\n",
       "      <td>1</td>\n",
       "      <td>273</td>\n",
       "      <td>21.0</td>\n",
       "      <td>396.90</td>\n",
       "      <td>7.88</td>\n",
       "      <td>11.9</td>\n",
       "    </tr>\n",
       "  </tbody>\n",
       "</table>\n",
       "<p>506 rows × 14 columns</p>\n",
       "</div>"
      ],
      "text/plain": [
       "        crim    zn  indus  chas    nox     rm   age     dis  rad  tax  \\\n",
       "1    0.00632  18.0   2.31     0  0.538  6.575  65.2  4.0900    1  296   \n",
       "2    0.02731   0.0   7.07     0  0.469  6.421  78.9  4.9671    2  242   \n",
       "3    0.02729   0.0   7.07     0  0.469  7.185  61.1  4.9671    2  242   \n",
       "4    0.03237   0.0   2.18     0  0.458  6.998  45.8  6.0622    3  222   \n",
       "5    0.06905   0.0   2.18     0  0.458  7.147  54.2  6.0622    3  222   \n",
       "..       ...   ...    ...   ...    ...    ...   ...     ...  ...  ...   \n",
       "502  0.06263   0.0  11.93     0  0.573  6.593  69.1  2.4786    1  273   \n",
       "503  0.04527   0.0  11.93     0  0.573  6.120  76.7  2.2875    1  273   \n",
       "504  0.06076   0.0  11.93     0  0.573  6.976  91.0  2.1675    1  273   \n",
       "505  0.10959   0.0  11.93     0  0.573  6.794  89.3  2.3889    1  273   \n",
       "506  0.04741   0.0  11.93     0  0.573  6.030  80.8  2.5050    1  273   \n",
       "\n",
       "     ptratio   black  lstat  medv  \n",
       "1       15.3  396.90   4.98  24.0  \n",
       "2       17.8  396.90   9.14  21.6  \n",
       "3       17.8  392.83   4.03  34.7  \n",
       "4       18.7  394.63   2.94  33.4  \n",
       "5       18.7  396.90   5.33  36.2  \n",
       "..       ...     ...    ...   ...  \n",
       "502     21.0  391.99   9.67  22.4  \n",
       "503     21.0  396.90   9.08  20.6  \n",
       "504     21.0  396.90   5.64  23.9  \n",
       "505     21.0  393.45   6.48  22.0  \n",
       "506     21.0  396.90   7.88  11.9  \n",
       "\n",
       "[506 rows x 14 columns]"
      ]
     },
     "execution_count": 8,
     "metadata": {},
     "output_type": "execute_result"
    }
   ],
   "source": [
    "bs"
   ]
  },
  {
   "cell_type": "code",
   "execution_count": 9,
   "id": "ae0d5c63",
   "metadata": {},
   "outputs": [
    {
     "data": {
      "text/plain": [
       "crim       0\n",
       "zn         0\n",
       "indus      0\n",
       "chas       0\n",
       "nox        0\n",
       "rm         0\n",
       "age        0\n",
       "dis        0\n",
       "rad        0\n",
       "tax        0\n",
       "ptratio    0\n",
       "black      0\n",
       "lstat      0\n",
       "medv       0\n",
       "dtype: int64"
      ]
     },
     "execution_count": 9,
     "metadata": {},
     "output_type": "execute_result"
    }
   ],
   "source": [
    "# Data Preprocessing:\n",
    "\n",
    "bs.isnull().sum()            # Checking for missing vaues"
   ]
  },
  {
   "cell_type": "code",
   "execution_count": 10,
   "id": "6fe8a0e0",
   "metadata": {},
   "outputs": [
    {
     "data": {
      "text/html": [
       "<div>\n",
       "<style scoped>\n",
       "    .dataframe tbody tr th:only-of-type {\n",
       "        vertical-align: middle;\n",
       "    }\n",
       "\n",
       "    .dataframe tbody tr th {\n",
       "        vertical-align: top;\n",
       "    }\n",
       "\n",
       "    .dataframe thead th {\n",
       "        text-align: right;\n",
       "    }\n",
       "</style>\n",
       "<table border=\"1\" class=\"dataframe\">\n",
       "  <thead>\n",
       "    <tr style=\"text-align: right;\">\n",
       "      <th></th>\n",
       "      <th>crim</th>\n",
       "      <th>zn</th>\n",
       "      <th>indus</th>\n",
       "      <th>chas</th>\n",
       "      <th>nox</th>\n",
       "      <th>rm</th>\n",
       "      <th>age</th>\n",
       "      <th>dis</th>\n",
       "      <th>rad</th>\n",
       "      <th>tax</th>\n",
       "      <th>ptratio</th>\n",
       "      <th>black</th>\n",
       "      <th>lstat</th>\n",
       "      <th>medv</th>\n",
       "    </tr>\n",
       "  </thead>\n",
       "  <tbody>\n",
       "    <tr>\n",
       "      <th>crim</th>\n",
       "      <td>1.00</td>\n",
       "      <td>-0.20</td>\n",
       "      <td>0.41</td>\n",
       "      <td>-0.06</td>\n",
       "      <td>0.42</td>\n",
       "      <td>-0.22</td>\n",
       "      <td>0.35</td>\n",
       "      <td>-0.38</td>\n",
       "      <td>0.63</td>\n",
       "      <td>0.58</td>\n",
       "      <td>0.29</td>\n",
       "      <td>-0.39</td>\n",
       "      <td>0.46</td>\n",
       "      <td>-0.39</td>\n",
       "    </tr>\n",
       "    <tr>\n",
       "      <th>zn</th>\n",
       "      <td>-0.20</td>\n",
       "      <td>1.00</td>\n",
       "      <td>-0.53</td>\n",
       "      <td>-0.04</td>\n",
       "      <td>-0.52</td>\n",
       "      <td>0.31</td>\n",
       "      <td>-0.57</td>\n",
       "      <td>0.66</td>\n",
       "      <td>-0.31</td>\n",
       "      <td>-0.31</td>\n",
       "      <td>-0.39</td>\n",
       "      <td>0.18</td>\n",
       "      <td>-0.41</td>\n",
       "      <td>0.36</td>\n",
       "    </tr>\n",
       "    <tr>\n",
       "      <th>indus</th>\n",
       "      <td>0.41</td>\n",
       "      <td>-0.53</td>\n",
       "      <td>1.00</td>\n",
       "      <td>0.06</td>\n",
       "      <td>0.76</td>\n",
       "      <td>-0.39</td>\n",
       "      <td>0.64</td>\n",
       "      <td>-0.71</td>\n",
       "      <td>0.60</td>\n",
       "      <td>0.72</td>\n",
       "      <td>0.38</td>\n",
       "      <td>-0.36</td>\n",
       "      <td>0.60</td>\n",
       "      <td>-0.48</td>\n",
       "    </tr>\n",
       "    <tr>\n",
       "      <th>chas</th>\n",
       "      <td>-0.06</td>\n",
       "      <td>-0.04</td>\n",
       "      <td>0.06</td>\n",
       "      <td>1.00</td>\n",
       "      <td>0.09</td>\n",
       "      <td>0.09</td>\n",
       "      <td>0.09</td>\n",
       "      <td>-0.10</td>\n",
       "      <td>-0.01</td>\n",
       "      <td>-0.04</td>\n",
       "      <td>-0.12</td>\n",
       "      <td>0.05</td>\n",
       "      <td>-0.05</td>\n",
       "      <td>0.18</td>\n",
       "    </tr>\n",
       "    <tr>\n",
       "      <th>nox</th>\n",
       "      <td>0.42</td>\n",
       "      <td>-0.52</td>\n",
       "      <td>0.76</td>\n",
       "      <td>0.09</td>\n",
       "      <td>1.00</td>\n",
       "      <td>-0.30</td>\n",
       "      <td>0.73</td>\n",
       "      <td>-0.77</td>\n",
       "      <td>0.61</td>\n",
       "      <td>0.67</td>\n",
       "      <td>0.19</td>\n",
       "      <td>-0.38</td>\n",
       "      <td>0.59</td>\n",
       "      <td>-0.43</td>\n",
       "    </tr>\n",
       "    <tr>\n",
       "      <th>rm</th>\n",
       "      <td>-0.22</td>\n",
       "      <td>0.31</td>\n",
       "      <td>-0.39</td>\n",
       "      <td>0.09</td>\n",
       "      <td>-0.30</td>\n",
       "      <td>1.00</td>\n",
       "      <td>-0.24</td>\n",
       "      <td>0.21</td>\n",
       "      <td>-0.21</td>\n",
       "      <td>-0.29</td>\n",
       "      <td>-0.36</td>\n",
       "      <td>0.13</td>\n",
       "      <td>-0.61</td>\n",
       "      <td>0.70</td>\n",
       "    </tr>\n",
       "    <tr>\n",
       "      <th>age</th>\n",
       "      <td>0.35</td>\n",
       "      <td>-0.57</td>\n",
       "      <td>0.64</td>\n",
       "      <td>0.09</td>\n",
       "      <td>0.73</td>\n",
       "      <td>-0.24</td>\n",
       "      <td>1.00</td>\n",
       "      <td>-0.75</td>\n",
       "      <td>0.46</td>\n",
       "      <td>0.51</td>\n",
       "      <td>0.26</td>\n",
       "      <td>-0.27</td>\n",
       "      <td>0.60</td>\n",
       "      <td>-0.38</td>\n",
       "    </tr>\n",
       "    <tr>\n",
       "      <th>dis</th>\n",
       "      <td>-0.38</td>\n",
       "      <td>0.66</td>\n",
       "      <td>-0.71</td>\n",
       "      <td>-0.10</td>\n",
       "      <td>-0.77</td>\n",
       "      <td>0.21</td>\n",
       "      <td>-0.75</td>\n",
       "      <td>1.00</td>\n",
       "      <td>-0.49</td>\n",
       "      <td>-0.53</td>\n",
       "      <td>-0.23</td>\n",
       "      <td>0.29</td>\n",
       "      <td>-0.50</td>\n",
       "      <td>0.25</td>\n",
       "    </tr>\n",
       "    <tr>\n",
       "      <th>rad</th>\n",
       "      <td>0.63</td>\n",
       "      <td>-0.31</td>\n",
       "      <td>0.60</td>\n",
       "      <td>-0.01</td>\n",
       "      <td>0.61</td>\n",
       "      <td>-0.21</td>\n",
       "      <td>0.46</td>\n",
       "      <td>-0.49</td>\n",
       "      <td>1.00</td>\n",
       "      <td>0.91</td>\n",
       "      <td>0.46</td>\n",
       "      <td>-0.44</td>\n",
       "      <td>0.49</td>\n",
       "      <td>-0.38</td>\n",
       "    </tr>\n",
       "    <tr>\n",
       "      <th>tax</th>\n",
       "      <td>0.58</td>\n",
       "      <td>-0.31</td>\n",
       "      <td>0.72</td>\n",
       "      <td>-0.04</td>\n",
       "      <td>0.67</td>\n",
       "      <td>-0.29</td>\n",
       "      <td>0.51</td>\n",
       "      <td>-0.53</td>\n",
       "      <td>0.91</td>\n",
       "      <td>1.00</td>\n",
       "      <td>0.46</td>\n",
       "      <td>-0.44</td>\n",
       "      <td>0.54</td>\n",
       "      <td>-0.47</td>\n",
       "    </tr>\n",
       "    <tr>\n",
       "      <th>ptratio</th>\n",
       "      <td>0.29</td>\n",
       "      <td>-0.39</td>\n",
       "      <td>0.38</td>\n",
       "      <td>-0.12</td>\n",
       "      <td>0.19</td>\n",
       "      <td>-0.36</td>\n",
       "      <td>0.26</td>\n",
       "      <td>-0.23</td>\n",
       "      <td>0.46</td>\n",
       "      <td>0.46</td>\n",
       "      <td>1.00</td>\n",
       "      <td>-0.18</td>\n",
       "      <td>0.37</td>\n",
       "      <td>-0.51</td>\n",
       "    </tr>\n",
       "    <tr>\n",
       "      <th>black</th>\n",
       "      <td>-0.39</td>\n",
       "      <td>0.18</td>\n",
       "      <td>-0.36</td>\n",
       "      <td>0.05</td>\n",
       "      <td>-0.38</td>\n",
       "      <td>0.13</td>\n",
       "      <td>-0.27</td>\n",
       "      <td>0.29</td>\n",
       "      <td>-0.44</td>\n",
       "      <td>-0.44</td>\n",
       "      <td>-0.18</td>\n",
       "      <td>1.00</td>\n",
       "      <td>-0.37</td>\n",
       "      <td>0.33</td>\n",
       "    </tr>\n",
       "    <tr>\n",
       "      <th>lstat</th>\n",
       "      <td>0.46</td>\n",
       "      <td>-0.41</td>\n",
       "      <td>0.60</td>\n",
       "      <td>-0.05</td>\n",
       "      <td>0.59</td>\n",
       "      <td>-0.61</td>\n",
       "      <td>0.60</td>\n",
       "      <td>-0.50</td>\n",
       "      <td>0.49</td>\n",
       "      <td>0.54</td>\n",
       "      <td>0.37</td>\n",
       "      <td>-0.37</td>\n",
       "      <td>1.00</td>\n",
       "      <td>-0.74</td>\n",
       "    </tr>\n",
       "    <tr>\n",
       "      <th>medv</th>\n",
       "      <td>-0.39</td>\n",
       "      <td>0.36</td>\n",
       "      <td>-0.48</td>\n",
       "      <td>0.18</td>\n",
       "      <td>-0.43</td>\n",
       "      <td>0.70</td>\n",
       "      <td>-0.38</td>\n",
       "      <td>0.25</td>\n",
       "      <td>-0.38</td>\n",
       "      <td>-0.47</td>\n",
       "      <td>-0.51</td>\n",
       "      <td>0.33</td>\n",
       "      <td>-0.74</td>\n",
       "      <td>1.00</td>\n",
       "    </tr>\n",
       "  </tbody>\n",
       "</table>\n",
       "</div>"
      ],
      "text/plain": [
       "         crim    zn  indus  chas   nox    rm   age   dis   rad   tax  ptratio  \\\n",
       "crim     1.00 -0.20   0.41 -0.06  0.42 -0.22  0.35 -0.38  0.63  0.58     0.29   \n",
       "zn      -0.20  1.00  -0.53 -0.04 -0.52  0.31 -0.57  0.66 -0.31 -0.31    -0.39   \n",
       "indus    0.41 -0.53   1.00  0.06  0.76 -0.39  0.64 -0.71  0.60  0.72     0.38   \n",
       "chas    -0.06 -0.04   0.06  1.00  0.09  0.09  0.09 -0.10 -0.01 -0.04    -0.12   \n",
       "nox      0.42 -0.52   0.76  0.09  1.00 -0.30  0.73 -0.77  0.61  0.67     0.19   \n",
       "rm      -0.22  0.31  -0.39  0.09 -0.30  1.00 -0.24  0.21 -0.21 -0.29    -0.36   \n",
       "age      0.35 -0.57   0.64  0.09  0.73 -0.24  1.00 -0.75  0.46  0.51     0.26   \n",
       "dis     -0.38  0.66  -0.71 -0.10 -0.77  0.21 -0.75  1.00 -0.49 -0.53    -0.23   \n",
       "rad      0.63 -0.31   0.60 -0.01  0.61 -0.21  0.46 -0.49  1.00  0.91     0.46   \n",
       "tax      0.58 -0.31   0.72 -0.04  0.67 -0.29  0.51 -0.53  0.91  1.00     0.46   \n",
       "ptratio  0.29 -0.39   0.38 -0.12  0.19 -0.36  0.26 -0.23  0.46  0.46     1.00   \n",
       "black   -0.39  0.18  -0.36  0.05 -0.38  0.13 -0.27  0.29 -0.44 -0.44    -0.18   \n",
       "lstat    0.46 -0.41   0.60 -0.05  0.59 -0.61  0.60 -0.50  0.49  0.54     0.37   \n",
       "medv    -0.39  0.36  -0.48  0.18 -0.43  0.70 -0.38  0.25 -0.38 -0.47    -0.51   \n",
       "\n",
       "         black  lstat  medv  \n",
       "crim     -0.39   0.46 -0.39  \n",
       "zn        0.18  -0.41  0.36  \n",
       "indus    -0.36   0.60 -0.48  \n",
       "chas      0.05  -0.05  0.18  \n",
       "nox      -0.38   0.59 -0.43  \n",
       "rm        0.13  -0.61  0.70  \n",
       "age      -0.27   0.60 -0.38  \n",
       "dis       0.29  -0.50  0.25  \n",
       "rad      -0.44   0.49 -0.38  \n",
       "tax      -0.44   0.54 -0.47  \n",
       "ptratio  -0.18   0.37 -0.51  \n",
       "black     1.00  -0.37  0.33  \n",
       "lstat    -0.37   1.00 -0.74  \n",
       "medv      0.33  -0.74  1.00  "
      ]
     },
     "execution_count": 10,
     "metadata": {},
     "output_type": "execute_result"
    }
   ],
   "source": [
    "corr_mat = bs.corr().round(2)          # Rounding off to 2nd decimal place\n",
    "corr_mat"
   ]
  },
  {
   "cell_type": "code",
   "execution_count": 22,
   "id": "4232fee1",
   "metadata": {},
   "outputs": [
    {
     "data": {
      "image/png": "[encoded data removed]",
      "text/plain": [
       "<Figure size 720x720 with 2 Axes>"
      ]
     },
     "metadata": {
      "needs_background": "light"
     },
     "output_type": "display_data"
    }
   ],
   "source": [
    "# Visualising correlation matrix:\n",
    "\n",
    "plt.figure(figsize=(10, 10))\n",
    "g = sb.heatmap(corr_mat,annot=True,cmap=\"RdYlGn\")                # annot = True to print the values inside the square"
   ]
  },
  {
   "cell_type": "code",
   "execution_count": null,
   "id": "7010360e",
   "metadata": {},
   "outputs": [],
   "source": [
    "# Gives the same as above statements but here the first column of dataset is not set as Index od data frame:\n",
    "\n",
    "#boston = pd.read_csv(\"Boston.csv\")\n",
    "#boston.head()\n",
    "\n",
    "\n",
    "#corrmat = boston.iloc[:,1:15].corr()\n",
    "#top_corr_features = corrmat.index\n",
    "\n",
    "#plt.figure(figsize=(15,15))\n",
    "#g=sns.heatmap(boston[top_corr_features].corr(),annot=True,cmap=\"RdYlGn\")"
   ]
  },
  {
   "cell_type": "code",
   "execution_count": 44,
   "id": "624d3000",
   "metadata": {},
   "outputs": [
    {
     "name": "stdout",
     "output_type": "stream",
     "text": [
      "crim     crim       1.00\n",
      "zn       zn         1.00\n",
      "lstat    lstat      1.00\n",
      "black    black      1.00\n",
      "ptratio  ptratio    1.00\n",
      "                    ... \n",
      "medv     lstat     -0.74\n",
      "dis      age       -0.75\n",
      "age      dis       -0.75\n",
      "dis      nox       -0.77\n",
      "nox      dis       -0.77\n",
      "Length: 196, dtype: float64\n",
      "\n",
      "*-----------------------*----------------------*\n",
      "\n"
     ]
    },
    {
     "data": {
      "text/plain": [
       "crim     crim       1.00\n",
       "zn       zn         1.00\n",
       "lstat    lstat      1.00\n",
       "black    black      1.00\n",
       "ptratio  ptratio    1.00\n",
       "tax      tax        1.00\n",
       "rad      rad        1.00\n",
       "dis      dis        1.00\n",
       "age      age        1.00\n",
       "rm       rm         1.00\n",
       "nox      nox        1.00\n",
       "chas     chas       1.00\n",
       "indus    indus      1.00\n",
       "medv     medv       1.00\n",
       "tax      rad        0.91\n",
       "rad      tax        0.91\n",
       "nox      indus      0.76\n",
       "indus    nox        0.76\n",
       "age      nox        0.73\n",
       "nox      age        0.73\n",
       "tax      indus      0.72\n",
       "indus    tax        0.72\n",
       "medv     rm         0.70\n",
       "rm       medv       0.70\n",
       "nox      tax        0.67\n",
       "tax      nox        0.67\n",
       "dis      zn         0.66\n",
       "zn       dis        0.66\n",
       "indus    age        0.64\n",
       "age      indus      0.64\n",
       "crim     rad        0.63\n",
       "rad      crim       0.63\n",
       "nox      rad        0.61\n",
       "rad      nox        0.61\n",
       "indus    rad        0.60\n",
       "         lstat      0.60\n",
       "lstat    age        0.60\n",
       "rad      indus      0.60\n",
       "lstat    indus      0.60\n",
       "age      lstat      0.60\n",
       "dtype: float64"
      ]
     },
     "execution_count": 44,
     "metadata": {},
     "output_type": "execute_result"
    }
   ],
   "source": [
    "sorted_mat = corr_mat.unstack().sort_values(ascending = False)\n",
    "print(sorted_mat)\n",
    "print(\"\\n*-----------------------*----------------------*\\n\")\n",
    "sorted_mat.head(40)"
   ]
  },
  {
   "cell_type": "markdown",
   "id": "b3bc263d",
   "metadata": {},
   "source": [
    "**The features 'rad', 'tax' have a correlation of 0.91. These feature pairs are strongly correlated to each other. We should not select both these features together for training the model. Same goes for the features DIS and AGE which have a correlation of -0.75**"
   ]
  },
  {
   "cell_type": "code",
   "execution_count": null,
   "id": "605bd35d",
   "metadata": {},
   "outputs": [],
   "source": []
  },
  {
   "cell_type": "markdown",
   "id": "b15f0094",
   "metadata": {},
   "source": [
    "**The best 5 features to predict ‘MEDV’ : lstat, rm, ptratio, rad, age**"
   ]
  },
  {
   "cell_type": "code",
   "execution_count": null,
   "id": "4385fc74",
   "metadata": {},
   "outputs": [],
   "source": []
  },
  {
   "cell_type": "markdown",
   "id": "de7564ad",
   "metadata": {},
   "source": [
    "# Using sklearn.linear_model, find the multiple regression model for the boston.csv dataset using the best 4 features. (from sklearn.linear_model import LinearRegression) "
   ]
  },
  {
   "cell_type": "code",
   "execution_count": 29,
   "id": "cfef5cfe",
   "metadata": {},
   "outputs": [],
   "source": [
    "from sklearn.linear_model import LinearRegression\n",
    "from sklearn import linear_model"
   ]
  },
  {
   "cell_type": "code",
   "execution_count": 32,
   "id": "550c28d1",
   "metadata": {},
   "outputs": [
    {
     "data": {
      "text/html": [
       "<div>\n",
       "<style scoped>\n",
       "    .dataframe tbody tr th:only-of-type {\n",
       "        vertical-align: middle;\n",
       "    }\n",
       "\n",
       "    .dataframe tbody tr th {\n",
       "        vertical-align: top;\n",
       "    }\n",
       "\n",
       "    .dataframe thead th {\n",
       "        text-align: right;\n",
       "    }\n",
       "</style>\n",
       "<table border=\"1\" class=\"dataframe\">\n",
       "  <thead>\n",
       "    <tr style=\"text-align: right;\">\n",
       "      <th></th>\n",
       "      <th>lstat</th>\n",
       "      <th>rm</th>\n",
       "      <th>ptratio</th>\n",
       "      <th>rad</th>\n",
       "    </tr>\n",
       "  </thead>\n",
       "  <tbody>\n",
       "    <tr>\n",
       "      <th>1</th>\n",
       "      <td>4.98</td>\n",
       "      <td>6.575</td>\n",
       "      <td>15.3</td>\n",
       "      <td>1</td>\n",
       "    </tr>\n",
       "    <tr>\n",
       "      <th>2</th>\n",
       "      <td>9.14</td>\n",
       "      <td>6.421</td>\n",
       "      <td>17.8</td>\n",
       "      <td>2</td>\n",
       "    </tr>\n",
       "    <tr>\n",
       "      <th>3</th>\n",
       "      <td>4.03</td>\n",
       "      <td>7.185</td>\n",
       "      <td>17.8</td>\n",
       "      <td>2</td>\n",
       "    </tr>\n",
       "    <tr>\n",
       "      <th>4</th>\n",
       "      <td>2.94</td>\n",
       "      <td>6.998</td>\n",
       "      <td>18.7</td>\n",
       "      <td>3</td>\n",
       "    </tr>\n",
       "    <tr>\n",
       "      <th>5</th>\n",
       "      <td>5.33</td>\n",
       "      <td>7.147</td>\n",
       "      <td>18.7</td>\n",
       "      <td>3</td>\n",
       "    </tr>\n",
       "    <tr>\n",
       "      <th>...</th>\n",
       "      <td>...</td>\n",
       "      <td>...</td>\n",
       "      <td>...</td>\n",
       "      <td>...</td>\n",
       "    </tr>\n",
       "    <tr>\n",
       "      <th>502</th>\n",
       "      <td>9.67</td>\n",
       "      <td>6.593</td>\n",
       "      <td>21.0</td>\n",
       "      <td>1</td>\n",
       "    </tr>\n",
       "    <tr>\n",
       "      <th>503</th>\n",
       "      <td>9.08</td>\n",
       "      <td>6.120</td>\n",
       "      <td>21.0</td>\n",
       "      <td>1</td>\n",
       "    </tr>\n",
       "    <tr>\n",
       "      <th>504</th>\n",
       "      <td>5.64</td>\n",
       "      <td>6.976</td>\n",
       "      <td>21.0</td>\n",
       "      <td>1</td>\n",
       "    </tr>\n",
       "    <tr>\n",
       "      <th>505</th>\n",
       "      <td>6.48</td>\n",
       "      <td>6.794</td>\n",
       "      <td>21.0</td>\n",
       "      <td>1</td>\n",
       "    </tr>\n",
       "    <tr>\n",
       "      <th>506</th>\n",
       "      <td>7.88</td>\n",
       "      <td>6.030</td>\n",
       "      <td>21.0</td>\n",
       "      <td>1</td>\n",
       "    </tr>\n",
       "  </tbody>\n",
       "</table>\n",
       "<p>506 rows × 4 columns</p>\n",
       "</div>"
      ],
      "text/plain": [
       "     lstat     rm  ptratio  rad\n",
       "1     4.98  6.575     15.3    1\n",
       "2     9.14  6.421     17.8    2\n",
       "3     4.03  7.185     17.8    2\n",
       "4     2.94  6.998     18.7    3\n",
       "5     5.33  7.147     18.7    3\n",
       "..     ...    ...      ...  ...\n",
       "502   9.67  6.593     21.0    1\n",
       "503   9.08  6.120     21.0    1\n",
       "504   5.64  6.976     21.0    1\n",
       "505   6.48  6.794     21.0    1\n",
       "506   7.88  6.030     21.0    1\n",
       "\n",
       "[506 rows x 4 columns]"
      ]
     },
     "execution_count": 32,
     "metadata": {},
     "output_type": "execute_result"
    }
   ],
   "source": [
    "bs[['lstat','rm','ptratio','rad']]   # Creating a dataframe from an existing dataframe"
   ]
  },
  {
   "cell_type": "code",
   "execution_count": 30,
   "id": "5ccfbbef",
   "metadata": {},
   "outputs": [
    {
     "data": {
      "text/plain": [
       "LinearRegression()"
      ]
     },
     "execution_count": 30,
     "metadata": {},
     "output_type": "execute_result"
    }
   ],
   "source": [
    "reg = linear_model.LinearRegression()     # With linear_model we are creating LinearRegression class Object\n",
    "reg.fit(bs[['lstat','rm','ptratio','rad']],bs.medv)"
   ]
  },
  {
   "cell_type": "code",
   "execution_count": 31,
   "id": "0b891cba",
   "metadata": {},
   "outputs": [
    {
     "data": {
      "text/plain": [
       "array([-0.58116294,  4.47304313, -0.953491  ,  0.01574181])"
      ]
     },
     "execution_count": 31,
     "metadata": {},
     "output_type": "execute_result"
    }
   ],
   "source": [
    "reg.coef_"
   ]
  },
  {
   "cell_type": "code",
   "execution_count": 34,
   "id": "f25087a1",
   "metadata": {},
   "outputs": [
    {
     "data": {
      "text/plain": [
       "19.221717345205718"
      ]
     },
     "execution_count": 34,
     "metadata": {},
     "output_type": "execute_result"
    }
   ],
   "source": [
    "reg.intercept_"
   ]
  },
  {
   "cell_type": "code",
   "execution_count": 46,
   "id": "782bbe70",
   "metadata": {},
   "outputs": [
    {
     "name": "stderr",
     "output_type": "stream",
     "text": [
      "C:\\Users\\S.Krishnan\\anaconda3\\lib\\site-packages\\sklearn\\base.py:445: UserWarning: X does not have valid feature names, but LinearRegression was fitted with feature names\n",
      "  warnings.warn(\n"
     ]
    },
    {
     "data": {
      "text/plain": [
       "array([31.50530082])"
      ]
     },
     "execution_count": 46,
     "metadata": {},
     "output_type": "execute_result"
    }
   ],
   "source": [
    "# Predicting:\n",
    "\n",
    "reg.predict([[8.27, 7.48, 17.2, 2]])"
   ]
  },
  {
   "cell_type": "code",
   "execution_count": 47,
   "id": "66888858",
   "metadata": {},
   "outputs": [
    {
     "name": "stdout",
     "output_type": "stream",
     "text": [
      "Predicted Value is:\n"
     ]
    },
    {
     "data": {
      "text/plain": [
       "31.505300863805722"
      ]
     },
     "execution_count": 47,
     "metadata": {},
     "output_type": "execute_result"
    }
   ],
   "source": [
    "print(\"Predicted Value is:\")\n",
    "(-0.58116294)*8.27+4.47304313*7.48+(-0.953491)*17.2+0.01574181*2+19.221717345205718"
   ]
  },
  {
   "cell_type": "markdown",
   "id": "9d499390",
   "metadata": {},
   "source": [
    "# Find the accuracy of the model using appropriate metrics using 80, 20 split for training and test"
   ]
  },
  {
   "cell_type": "code",
   "execution_count": 51,
   "id": "be4408c5",
   "metadata": {},
   "outputs": [],
   "source": [
    "x = bs[['lstat','rm','ptratio','rad']].values\n",
    "y = bs['medv'].values\n",
    "\n",
    "            # OR\n",
    "\n",
    "#features = [bs.lstat, bs.rm, bs.ptratio, bs.rad]\n",
    "#features = pd.DataFrame(features)\n",
    "#features = features.transpose()\n",
    "\n",
    "#x = features.iloc[:,0:3]\n",
    "#y = bs.medv\n",
    "\n",
    "#x = np.array(x)\n",
    "#y = np.array(y)"
   ]
  },
  {
   "cell_type": "code",
   "execution_count": 52,
   "id": "fda4cd44",
   "metadata": {
    "scrolled": true
   },
   "outputs": [
    {
     "name": "stdout",
     "output_type": "stream",
     "text": [
      "[24.  21.6 34.7 33.4 36.2 28.7 22.9 27.1 16.5 18.9 15.  18.9 21.7 20.4\n",
      " 18.2 19.9 23.1 17.5 20.2 18.2 13.6 19.6 15.2 14.5 15.6 13.9 16.6 14.8\n",
      " 18.4 21.  12.7 14.5 13.2 13.1 13.5 18.9 20.  21.  24.7 30.8 34.9 26.6\n",
      " 25.3 24.7 21.2 19.3 20.  16.6 14.4 19.4 19.7 20.5 25.  23.4 18.9 35.4\n",
      " 24.7 31.6 23.3 19.6 18.7 16.  22.2 25.  33.  23.5 19.4 22.  17.4 20.9\n",
      " 24.2 21.7 22.8 23.4 24.1 21.4 20.  20.8 21.2 20.3 28.  23.9 24.8 22.9\n",
      " 23.9 26.6 22.5 22.2 23.6 28.7 22.6 22.  22.9 25.  20.6 28.4 21.4 38.7\n",
      " 43.8 33.2 27.5 26.5 18.6 19.3 20.1 19.5 19.5 20.4 19.8 19.4 21.7 22.8\n",
      " 18.8 18.7 18.5 18.3 21.2 19.2 20.4 19.3 22.  20.3 20.5 17.3 18.8 21.4\n",
      " 15.7 16.2 18.  14.3 19.2 19.6 23.  18.4 15.6 18.1 17.4 17.1 13.3 17.8\n",
      " 14.  14.4 13.4 15.6 11.8 13.8 15.6 14.6 17.8 15.4 21.5 19.6 15.3 19.4\n",
      " 17.  15.6 13.1 41.3 24.3 23.3 27.  50.  50.  50.  22.7 25.  50.  23.8\n",
      " 23.8 22.3 17.4 19.1 23.1 23.6 22.6 29.4 23.2 24.6 29.9 37.2 39.8 36.2\n",
      " 37.9 32.5 26.4 29.6 50.  32.  29.8 34.9 37.  30.5 36.4 31.1 29.1 50.\n",
      " 33.3 30.3 34.6 34.9 32.9 24.1 42.3 48.5 50.  22.6 24.4 22.5 24.4 20.\n",
      " 21.7 19.3 22.4 28.1 23.7 25.  23.3 28.7 21.5 23.  26.7 21.7 27.5 30.1\n",
      " 44.8 50.  37.6 31.6 46.7 31.5 24.3 31.7 41.7 48.3 29.  24.  25.1 31.5\n",
      " 23.7 23.3 22.  20.1 22.2 23.7 17.6 18.5 24.3 20.5 24.5 26.2 24.4 24.8\n",
      " 29.6 42.8 21.9 20.9 44.  50.  36.  30.1 33.8 43.1 48.8 31.  36.5 22.8\n",
      " 30.7 50.  43.5 20.7 21.1 25.2 24.4 35.2 32.4 32.  33.2 33.1 29.1 35.1\n",
      " 45.4 35.4 46.  50.  32.2 22.  20.1 23.2 22.3 24.8 28.5 37.3 27.9 23.9\n",
      " 21.7 28.6 27.1 20.3 22.5 29.  24.8 22.  26.4 33.1 36.1 28.4 33.4 28.2\n",
      " 22.8 20.3 16.1 22.1 19.4 21.6 23.8 16.2 17.8 19.8 23.1 21.  23.8 23.1\n",
      " 20.4 18.5 25.  24.6 23.  22.2 19.3 22.6 19.8 17.1 19.4 22.2 20.7 21.1\n",
      " 19.5 18.5 20.6 19.  18.7 32.7 16.5 23.9 31.2 17.5 17.2 23.1 24.5 26.6\n",
      " 22.9 24.1 18.6 30.1 18.2 20.6 17.8 21.7 22.7 22.6 25.  19.9 20.8 16.8\n",
      " 21.9 27.5 21.9 23.1 50.  50.  50.  50.  50.  13.8 13.8 15.  13.9 13.3\n",
      " 13.1 10.2 10.4 10.9 11.3 12.3  8.8  7.2 10.5  7.4 10.2 11.5 15.1 23.2\n",
      "  9.7 13.8 12.7 13.1 12.5  8.5  5.   6.3  5.6  7.2 12.1  8.3  8.5  5.\n",
      " 11.9 27.9 17.2 27.5 15.  17.2 17.9 16.3  7.   7.2  7.5 10.4  8.8  8.4\n",
      " 16.7 14.2 20.8 13.4 11.7  8.3 10.2 10.9 11.   9.5 14.5 14.1 16.1 14.3\n",
      " 11.7 13.4  9.6  8.7  8.4 12.8 10.5 17.1 18.4 15.4 10.8 11.8 14.9 12.6\n",
      " 14.1 13.  13.4 15.2 16.1 17.8 14.9 14.1 12.7 13.5 14.9 20.  16.4 17.7\n",
      " 19.5 20.2 21.4 19.9 19.  19.1 19.1 20.1 19.9 19.6 23.2 29.8 13.8 13.3\n",
      " 16.7 12.  14.6 21.4 23.  23.7 25.  21.8 20.6 21.2 19.1 20.6 15.2  7.\n",
      "  8.1 13.6 20.1 21.8 24.5 23.1 19.7 18.3 21.2 17.5 16.8 22.4 20.6 23.9\n",
      " 22.  11.9]\n"
     ]
    }
   ],
   "source": [
    "print(y)"
   ]
  },
  {
   "cell_type": "code",
   "execution_count": 53,
   "id": "f6ed65e8",
   "metadata": {},
   "outputs": [],
   "source": [
    "from sklearn.model_selection import train_test_split\n",
    "\n",
    "x_train, x_test, y_train, y_test = train_test_split(x, y, test_size = 0.2, random_state = 100)"
   ]
  },
  {
   "cell_type": "code",
   "execution_count": 54,
   "id": "685925a2",
   "metadata": {},
   "outputs": [
    {
     "data": {
      "text/plain": [
       "LinearRegression()"
      ]
     },
     "execution_count": 54,
     "metadata": {},
     "output_type": "execute_result"
    }
   ],
   "source": [
    "ml = LinearRegression()\n",
    "ml.fit(x_train, y_train)"
   ]
  },
  {
   "cell_type": "code",
   "execution_count": 57,
   "id": "6558b19b",
   "metadata": {
    "scrolled": false
   },
   "outputs": [
    {
     "name": "stdout",
     "output_type": "stream",
     "text": [
      "[35.86112635 29.81583589 21.25264434 18.8883669  20.75562884 27.49848814\n",
      " 26.45626006 23.50376214 21.15907897 20.49927991 27.18638084 16.34587304\n",
      " 22.05163352 16.98811854 37.89349395 27.96897895 30.73929587 16.99326645\n",
      " 34.02686698 40.41904762 33.56312029 21.63735273 19.9248699  18.38985443\n",
      " 13.97263451 16.39473161 29.20673331 18.74562081 17.67158879 21.63930625\n",
      " 16.50331594 22.93163093 38.58477746 25.09588971 29.82424169 30.77403583\n",
      " 20.48230943 19.89074178 15.2066355  22.14992002 24.71763836 22.9353855\n",
      " 17.34175105 23.79163801 30.13403717 29.03600715 19.25624827 18.35348516\n",
      " 16.67810637 17.39203896 24.65043489 19.06299397 25.24735722 27.24348231\n",
      " 10.20276581 13.23613921 29.97125283 31.82061027 13.01878718 22.25653082\n",
      " 18.75278791 19.69322017 22.02374782 33.47519086 22.3899884  24.60953798\n",
      " 15.95973701 30.46833676 19.34639865 22.5586959  17.65163578 18.17728514\n",
      "  2.98736907 15.98237258 29.519036   12.94755537 25.67023705 35.28653133\n",
      "  9.68342158 25.8490024  34.58652124 39.43783793 13.92601908 19.54962207\n",
      " 18.01972782 12.24741743 24.73703917 24.8735701  15.25612324 20.499059\n",
      " 31.47550636 21.70652338 25.67988313 25.4645534  21.60845855 24.19145101\n",
      " 19.10031051 38.3041504  17.21960147 20.99301077 12.85273605 15.90344982]\n"
     ]
    }
   ],
   "source": [
    "y_pred = ml.predict(x_test)\n",
    "print(y_pred)"
   ]
  },
  {
   "cell_type": "code",
   "execution_count": 64,
   "id": "ae884ce4",
   "metadata": {},
   "outputs": [
    {
     "data": {
      "text/plain": [
       "0.6981613954709583"
      ]
     },
     "execution_count": 64,
     "metadata": {},
     "output_type": "execute_result"
    }
   ],
   "source": [
    "# Evaluating the model:\n",
    "\n",
    "from sklearn.metrics import r2_score\n",
    "r2_score(y_test, y_pred)"
   ]
  },
  {
   "cell_type": "code",
   "execution_count": 67,
   "id": "445ce7ba",
   "metadata": {},
   "outputs": [
    {
     "ename": "NameError",
     "evalue": "name 'findRSquare' is not defined",
     "output_type": "error",
     "traceback": [
      "\u001b[1;31m---------------------------------------------------------------------------\u001b[0m",
      "\u001b[1;31mNameError\u001b[0m                                 Traceback (most recent call last)",
      "\u001b[1;32m~\\AppData\\Local\\Temp/ipykernel_50112/2932078972.py\u001b[0m in \u001b[0;36m<module>\u001b[1;34m\u001b[0m\n\u001b[1;32m----> 1\u001b[1;33m \u001b[0mr_square\u001b[0m \u001b[1;33m=\u001b[0m \u001b[0mfindRSquare\u001b[0m\u001b[1;33m(\u001b[0m\u001b[0my_test\u001b[0m\u001b[1;33m,\u001b[0m \u001b[0my_pred\u001b[0m\u001b[1;33m)\u001b[0m\u001b[1;33m\u001b[0m\u001b[1;33m\u001b[0m\u001b[0m\n\u001b[0m\u001b[0;32m      2\u001b[0m \u001b[0mrmse\u001b[0m \u001b[1;33m=\u001b[0m \u001b[0mfindRMSE\u001b[0m\u001b[1;33m(\u001b[0m\u001b[0my_test\u001b[0m\u001b[1;33m,\u001b[0m \u001b[0my_pred\u001b[0m\u001b[1;33m)\u001b[0m\u001b[1;33m\u001b[0m\u001b[1;33m\u001b[0m\u001b[0m\n\u001b[0;32m      3\u001b[0m \u001b[0mmse\u001b[0m \u001b[1;33m=\u001b[0m \u001b[0mrmse\u001b[0m\u001b[1;33m**\u001b[0m\u001b[1;36m2\u001b[0m\u001b[1;33m\u001b[0m\u001b[1;33m\u001b[0m\u001b[0m\n\u001b[0;32m      4\u001b[0m \u001b[1;33m\u001b[0m\u001b[0m\n\u001b[0;32m      5\u001b[0m \u001b[0mprint\u001b[0m\u001b[1;33m(\u001b[0m\u001b[1;34m\"R-Square = \"\u001b[0m\u001b[1;33m,\u001b[0m \u001b[0mr_square\u001b[0m\u001b[1;33m)\u001b[0m\u001b[1;33m\u001b[0m\u001b[1;33m\u001b[0m\u001b[0m\n",
      "\u001b[1;31mNameError\u001b[0m: name 'findRSquare' is not defined"
     ]
    }
   ],
   "source": [
    "r_square = findRSquare(y_test, y_pred)\n",
    "rmse = findRMSE(y_test, y_pred)\n",
    "mse = rmse**2\n",
    "\n",
    "print(\"R-Square = \", r_square)\n",
    "print(\"Mean Square Error = \", mse)\n",
    "print(\"Root Mean Square Error = \", rmse)"
   ]
  },
  {
   "cell_type": "code",
   "execution_count": 70,
   "id": "374f4203",
   "metadata": {},
   "outputs": [
    {
     "name": "stdout",
     "output_type": "stream",
     "text": [
      "R-Square =  0.6981613954709583\n",
      "Mean Square Error =  29.155897792345762\n",
      "Root Mean Square Error =  5.399620152598307\n"
     ]
    }
   ],
   "source": [
    "from sklearn.metrics import r2_score, mean_squared_error\n",
    "\n",
    "r_square = r2_score(y_test, y_pred)\n",
    "mse = mean_squared_error(y_test, y_pred, squared = True)\n",
    "rmse = mse**0.5                                             # rsme =  mean_squared_error(y_test, y_pred, squared = False)\n",
    "\n",
    "print(\"R-Square = \", r_square)\n",
    "print(\"Mean Square Error = \", mse)\n",
    "print(\"Root Mean Square Error = \", rmse)"
   ]
  },
  {
   "cell_type": "markdown",
   "id": "461710b3",
   "metadata": {},
   "source": [
    "**Change in our independent variables(lstat, rm, ptratio, rad) predicts 69% of the variance in our dependent variable(medv)**"
   ]
  },
  {
   "cell_type": "markdown",
   "id": "93cb2da7",
   "metadata": {},
   "source": [
    "# NOTE:\n",
    "# Overfitting happens if we have \"Low Training RMSE & High Testing RMSE\""
   ]
  },
  {
   "cell_type": "code",
   "execution_count": 60,
   "id": "a8075baf",
   "metadata": {},
   "outputs": [
    {
     "data": {
      "text/plain": [
       "Text(0.5, 1.0, 'Actual Vs Predicted')"
      ]
     },
     "execution_count": 60,
     "metadata": {},
     "output_type": "execute_result"
    },
    {
     "data": {
      "image/png": "[encoded data removed]",
      "text/plain": [
       "<Figure size 720x720 with 1 Axes>"
      ]
     },
     "metadata": {
      "needs_background": "light"
     },
     "output_type": "display_data"
    }
   ],
   "source": [
    "# Plot the results:\n",
    "\n",
    "plt.figure(figsize = (10, 10))\n",
    "plt.scatter(y_test, y_pred)\n",
    "plt.xlabel('Actual')\n",
    "plt.ylabel('Predicted')\n",
    "plt.title('Actual Vs Predicted')"
   ]
  },
  {
   "cell_type": "code",
   "execution_count": null,
   "id": "a8f2919f",
   "metadata": {},
   "outputs": [],
   "source": []
  }
 ],
 "metadata": {
  "kernelspec": {
   "display_name": "Python 3",
   "language": "python",
   "name": "python3"
  },
  "language_info": {
   "codemirror_mode": {
    "name": "ipython",
    "version": 3
   },
   "file_extension": ".py",
   "mimetype": "text/x-python",
   "name": "python",
   "nbconvert_exporter": "python",
   "pygments_lexer": "ipython3",
   "version": "3.8.8"
  }
 },
 "nbformat": 4,
 "nbformat_minor": 5
}
